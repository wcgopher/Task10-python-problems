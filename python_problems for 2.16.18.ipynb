{
 "cells": [
  {
   "cell_type": "code",
   "execution_count": null,
   "metadata": {
    "collapsed": true
   },
   "outputs": [],
   "source": [
    "def max_lists(list1, list2):\n",
    "    \"\"\"\n",
    "    list1 and list2 have the same length.\n",
    "    Return a list which contains, for each index,\n",
    "    the maximum element of both list at this index.\n",
    "\n",
    "    Parameters\n",
    "    ----------\n",
    "    list1 : {list} of numeric values\n",
    "    list2 : {list} of numeric values\n",
    "\n",
    "    Returns\n",
    "    -------\n",
    "    {list} : list of maximum values for each index of list1,list2\n",
    "\n",
    "    Example\n",
    "    -------\n",
    "    >>> max_lists([1, 4, 8], [3, 1, 9])\n",
    "    [3, 4, 9]\n",
    "    >>> max_lists([5, 7, 2, 3, 6], [3, 9, 1, 2, 8])\n",
    "    [5, 9, 2, 3, 8]\n",
    "    \"\"\"\n",
    "    zipped = zip(list1,list2)\n",
    "    output = []\n",
    "    for x in zip(list1,list2):\n",
    "        output.append(max(x))\n",
    "    return output"
   ]
  },
  {
   "cell_type": "code",
   "execution_count": null,
   "metadata": {
    "collapsed": true
   },
   "outputs": [],
   "source": [
    "max_lists([1, 4, 8], [3, 1, 9])"
   ]
  },
  {
   "cell_type": "code",
   "execution_count": null,
   "metadata": {
    "collapsed": true
   },
   "outputs": [],
   "source": [
    "def get_diagonal(mat):\n",
    "    \"\"\"\n",
    "    Given a matrix encoded as a 2 dimensional python list, return a list\n",
    "    containing all the values in the diagonal starting at the index 0, 0.\n",
    "\n",
    "    Parameters\n",
    "    ----------\n",
    "    mat : 2 dimensional list ({list} of {list} of numeric values)\n",
    "\n",
    "    Returns\n",
    "    -------\n",
    "    {list} : values in the diagonal\n",
    "\n",
    "    Example\n",
    "    -------\n",
    "    E.g.\n",
    "    mat = [[1, 2], [3, 4], [5, 6]]\n",
    "    | 1  2 |\n",
    "    | 3  4 |\n",
    "    | 5  6 |\n",
    "    get_diagonal(mat) => [1, 4]\n",
    "\n",
    "    You may assume that the matrix is nonempty.\n",
    "\n",
    "    >>> get_diagonal([[1, 2], [3, 4], [5, 6]])\n",
    "    [1, 4]\n",
    "    \"\"\"\n",
    "    output = []\n",
    "    for i,v in enumerate(mat):\n",
    "        try:\n",
    "            output.append(v[i])\n",
    "        except IndexError:\n",
    "            pass \n",
    "    return output"
   ]
  },
  {
   "cell_type": "code",
   "execution_count": null,
   "metadata": {
    "collapsed": true
   },
   "outputs": [],
   "source": [
    "mat = [[1, 2], [3, 4], [5, 6]]\n",
    "for i,v in enumerate(mat):\n",
    "    print(i,v)\n",
    "    "
   ]
  },
  {
   "cell_type": "code",
   "execution_count": null,
   "metadata": {
    "collapsed": true
   },
   "outputs": [],
   "source": [
    "get_diagonal([[1, 2, 3], [3, 4, 5], [5, 6, 7]])"
   ]
  },
  {
   "cell_type": "code",
   "execution_count": null,
   "metadata": {
    "collapsed": true
   },
   "outputs": [],
   "source": [
    "def merge_dictionaries(d1, d2):\n",
    "    \"\"\"\n",
    "    Return a new dictionary which contains all the keys from d1 and d2 with\n",
    "    their associated values. If a key is in both dictionaries, the value should\n",
    "    be the sum of the two values.\n",
    "\n",
    "    Parameters\n",
    "    ----------\n",
    "    d1 : {dict}\n",
    "    d2 : {dict}\n",
    "\n",
    "    Returns\n",
    "    -------\n",
    "    {dict} : sum of values\n",
    "\n",
    "    Example\n",
    "    -------\n",
    "    >>> d1 = {\"a\": 1, \"b\": 5, \"c\": 1, \"e\": 8}\n",
    "    >>> d2 = {\"b\": 2, \"c\": 5, \"d\": 10, \"f\": 6}\n",
    "    >>> merge_dictionaries(d1,d2) == {\"a\": 1, \"b\": 7, \"c\": 6, \"d\": 10, \"e\": 8, \"f\": 6}\n",
    "    True\n",
    "    \"\"\"\n",
    "    d3 = {}\n",
    "    for key,value in d1.items():\n",
    "        if key in d3:\n",
    "            d3[key] += value\n",
    "        else:\n",
    "            d3[key] = value\n",
    "            \n",
    "    for key,value in d2.items():\n",
    "        if key in d3:\n",
    "            d3[key] += value\n",
    "        else:\n",
    "            d3[key] = value\n",
    "    return d3\n",
    "            "
   ]
  },
  {
   "cell_type": "code",
   "execution_count": null,
   "metadata": {
    "collapsed": true
   },
   "outputs": [],
   "source": [
    "d1 = {\"a\": 1, \"b\": 5, \"c\": 1, \"e\": 8}\n",
    "for key,value in d1.items():\n",
    "    print(key,value)"
   ]
  },
  {
   "cell_type": "code",
   "execution_count": null,
   "metadata": {
    "collapsed": true
   },
   "outputs": [],
   "source": [
    "d1 = {\"a\": 1, \"b\": 5, \"c\": 1, \"e\": 8}\n",
    "print(d1)\n",
    "d2 = {\"b\": 2, \"c\": 5, \"d\": 10, \"f\": 6}\n",
    "print(d2)\n",
    "d3 = merge_dictionaries(d1,d2)\n",
    "print(d1)\n",
    "print(d2)\n",
    "print(d3)"
   ]
  },
  {
   "cell_type": "code",
   "execution_count": null,
   "metadata": {
    "collapsed": true
   },
   "outputs": [],
   "source": [
    "from collections import defaultdict\n",
    "def make_char_dict(filename):\n",
    "    \"\"\"\n",
    "    Given a file containing rows of text, create a dictionary with keys\n",
    "    of single characters. The value is a list of all the line numbers which\n",
    "    start with that letter. The first line should have line number 1.\n",
    "    Characters which never are the first letter of a line do not need to be\n",
    "    included in your dictionary.\n",
    "\n",
    "    Parameters\n",
    "    ----------\n",
    "    filename : {string} indicating path to file\n",
    "\n",
    "    Returns\n",
    "    -------\n",
    "    {dict} : keys are {str} and values are {list}\n",
    "\n",
    "    Example\n",
    "    -------\n",
    "    >>> result = make_char_dict('data/people.txt')\n",
    "    >>> result['j']\n",
    "    [2, 19, 20]\n",
    "    >>> result['g']\n",
    "    [3]\n",
    "    \"\"\"\n",
    "    output = defaultdict(list)\n",
    "    for line in filename:\n",
    "        output[line[0]].append(line)\n",
    "    return output"
   ]
  },
  {
   "cell_type": "code",
   "execution_count": 25,
   "metadata": {},
   "outputs": [
    {
     "data": {
      "text/plain": [
       "Counter({' ': 261,\n",
       "         '\"': 1055,\n",
       "         \"'\": 14,\n",
       "         '(': 20,\n",
       "         '*': 4,\n",
       "         '-': 4,\n",
       "         '.': 3,\n",
       "         '1': 25,\n",
       "         '2': 4,\n",
       "         '3': 1,\n",
       "         '5': 1,\n",
       "         '7': 1,\n",
       "         '8': 1,\n",
       "         '_': 294,\n",
       "         'a': 1111,\n",
       "         'b': 481,\n",
       "         'c': 607,\n",
       "         'd': 409,\n",
       "         'e': 277,\n",
       "         'f': 446,\n",
       "         'g': 233,\n",
       "         'h': 906,\n",
       "         'i': 702,\n",
       "         'j': 88,\n",
       "         'k': 100,\n",
       "         'l': 370,\n",
       "         'm': 562,\n",
       "         'n': 250,\n",
       "         'o': 478,\n",
       "         'p': 385,\n",
       "         'q': 48,\n",
       "         'r': 279,\n",
       "         's': 1053,\n",
       "         't': 1635,\n",
       "         'u': 133,\n",
       "         'v': 102,\n",
       "         'w': 967,\n",
       "         'y': 102,\n",
       "         'z': 1,\n",
       "         '\\ufeff': 1})"
      ]
     },
     "execution_count": 25,
     "metadata": {},
     "output_type": "execute_result"
    }
   ],
   "source": [
    "import collections\n",
    "dtext = open(\"Dracula.txt\",\"r\") #This open the Dracula.txt file and gives it the attribute \"r\", which means readable. The file is readable\n",
    "lines = dtext.read().lower().split(\"\\n\") #This creates a list called \"lines\" where each item in the list is a line from the text. The '\\n' is used as the separator\n",
    "lines\n",
    "# for line in lines:\n",
    "#     if len(line) == 0:\n",
    "#         pass\n",
    "#     else:\n",
    "#         print(line[0])\n",
    "result = collections.Counter()\n",
    "for line in lines:\n",
    "    if len(line) == 0:\n",
    "        pass\n",
    "    elif line[0] in cnt:\n",
    "        result[line[0]] += 1\n",
    "    else:\n",
    "        result[line[0]] = 1\n",
    "result\n",
    "\n"
   ]
  },
  {
   "cell_type": "code",
   "execution_count": null,
   "metadata": {
    "collapsed": true
   },
   "outputs": [],
   "source": []
  },
  {
   "cell_type": "code",
   "execution_count": null,
   "metadata": {
    "collapsed": true
   },
   "outputs": [],
   "source": []
  }
 ],
 "metadata": {
  "kernelspec": {
   "display_name": "Python 3",
   "language": "python",
   "name": "python3"
  },
  "language_info": {
   "codemirror_mode": {
    "name": "ipython",
    "version": 3
   },
   "file_extension": ".py",
   "mimetype": "text/x-python",
   "name": "python",
   "nbconvert_exporter": "python",
   "pygments_lexer": "ipython3",
   "version": "3.6.3"
  }
 },
 "nbformat": 4,
 "nbformat_minor": 2
}
